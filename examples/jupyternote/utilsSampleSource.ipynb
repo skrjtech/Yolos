{
 "cells": [
  {
   "cell_type": "code",
   "execution_count": 1,
   "id": "6bb00c6a-3ecb-4c60-89ef-d596a370abc7",
   "metadata": {},
   "outputs": [],
   "source": [
    "import torch\n",
    "import numpy as np"
   ]
  },
  {
   "cell_type": "code",
   "execution_count": 2,
   "id": "1f61ea13-ef75-4b17-8df7-fbb131ebd534",
   "metadata": {},
   "outputs": [],
   "source": [
    "def TorchIsistance(Tensor: any) -> torch.Tensor:\n",
    "\n",
    "    T = lambda: torch.Tensor(Tensor)\n",
    "    if isinstance(Tensor, list): return T()\n",
    "    elif isinstance(Tensor, tuple): return T()\n",
    "    elif isinstance(Tensor, np.ndarray): return T()\n",
    "    return Tensor"
   ]
  },
  {
   "cell_type": "code",
   "execution_count": 3,
   "id": "5a352e20-42cf-4917-8ddd-f9ad9fa727f0",
   "metadata": {},
   "outputs": [
    {
     "name": "stdout",
     "output_type": "stream",
     "text": [
      "tensor([[0.3333, 0.3333],\n",
      "        [0.3333, 0.3333]])\n"
     ]
    }
   ],
   "source": [
    "def IntersectionOverUnion(BBoxP: torch.Tensor, BBoxT: torch.Tensor) -> torch.Tensor:\n",
    "\n",
    "    BBoxP = TorchIsistance(BBoxP)\n",
    "    BBoxT = TorchIsistance(BBoxT)\n",
    "\n",
    "    if (BBoxP.dim() == 1): BBoxP = BBoxP.unsqueeze(0)\n",
    "    if (BBoxT.dim() == 1): BBoxT = BBoxT.unsqueeze(0)\n",
    "\n",
    "    N = BBoxP.size(0)\n",
    "    M = BBoxT.size(0)\n",
    "\n",
    "    XYMIN = torch.max(\n",
    "        BBoxP[..., :2].unsqueeze(1).expand(N, M, 2),\n",
    "        BBoxT[..., :2].unsqueeze(0).expand(N, M, 2),\n",
    "    )\n",
    "    XYMAX = torch.min(\n",
    "        BBoxP[..., 2:].unsqueeze(1).expand(N, M, 2),\n",
    "        BBoxT[..., 2:].unsqueeze(0).expand(N, M, 2),\n",
    "    )\n",
    "\n",
    "    WH = torch.clamp(XYMAX - XYMIN, min=0)\n",
    "    Intersection = WH[..., 0] * WH[..., 1]\n",
    "\n",
    "    Area1 = (BBoxP[..., 2] - BBoxP[..., 0]) * (BBoxP[..., 3] - BBoxP[..., 1])\n",
    "    Area2 = (BBoxT[..., 2] - BBoxT[..., 0]) * (BBoxT[..., 3] - BBoxT[..., 1])\n",
    "    Area1 = Area1.unsqueeze(1).expand_as(Intersection)\n",
    "    Area2 = Area2.unsqueeze(0).expand_as(Intersection)\n",
    "\n",
    "    Union = Area1 + Area2 - Intersection\n",
    "\n",
    "    return Intersection / Union\n",
    "    \n",
    "BBoex1 = torch.Tensor([\n",
    "    [100, 100, 300, 300],\n",
    "    [100, 100, 300, 300],\n",
    "])\n",
    "BBoex2 = torch.Tensor([\n",
    "    [200, 100, 400, 300],\n",
    "    [200, 100, 400, 300],\n",
    "])\n",
    "print(IntersectionOverUnion(BBoex1, BBoex2))"
   ]
  },
  {
   "cell_type": "code",
   "execution_count": 4,
   "id": "10939996-f918-4cfe-bc7c-dfc14d066161",
   "metadata": {},
   "outputs": [
    {
     "name": "stdout",
     "output_type": "stream",
     "text": [
      "tensor([[3.0000, 3.0000, 0.5000, 0.5000, 0.5000, 0.5000, 0.0000]])\n"
     ]
    }
   ],
   "source": [
    "def EncoderBBox(BBox: torch.Tensor, Width: int, Height: int, S: int = 7) -> torch.Tensor:\n",
    "\n",
    "    \"\"\"\n",
    "        BBox: [[Xmin, Ymin, Xmax, Ymax, Label],...]\n",
    "        Width:\n",
    "        Height:\n",
    "        S:\n",
    "        return [[XIndex, YIndex, CenterX, CenterY, Width, Height],...]\n",
    "    \"\"\"\n",
    "\n",
    "    BBox = TorchIsistance(BBox)\n",
    "    if BBox.dim() == 1: BBox = BBox.reshape(1, -1)\n",
    "\n",
    "    S = float(S)\n",
    "    Label = BBox[..., -1].unsqueeze(-1)\n",
    "    WH = torch.Tensor([Width, Height]).unsqueeze(0)\n",
    "\n",
    "    XYXY = BBox[..., :4] / torch.cat((WH, WH), dim=1)\n",
    "    XYC = (XYXY[..., [2, 3]] + XYXY[..., [0, 1]]) / 2.\n",
    "    WH = (XYXY[..., [2, 3]] - XYXY[..., [0, 1]])\n",
    "\n",
    "    XYI = (XYC * S).ceil() - 1.\n",
    "    XYN = (XYC - (XYI / S)) * S\n",
    "\n",
    "    return torch.cat((XYI, XYN, WH, Label), dim=1)\n",
    "BBoxes = torch.Tensor([\n",
    "    [100, 100, 300, 300, 0]\n",
    "])\n",
    "EncB = EncoderBBox(BBoxes, 400, 400)\n",
    "print(EncB)"
   ]
  },
  {
   "cell_type": "code",
   "execution_count": 5,
   "id": "91c5cdaa-c3d9-4504-b040-7c7e073fdc51",
   "metadata": {},
   "outputs": [
    {
     "name": "stdout",
     "output_type": "stream",
     "text": [
      "tensor([[100, 100, 300, 300,   0]])\n"
     ]
    }
   ],
   "source": [
    "def DecoderBBox(BBox: torch.Tensor, Width: int, Height: int, S: int = 7) -> torch.Tensor:\n",
    "\n",
    "    \"\"\"\n",
    "        BBox: [[XIndex, YIndex, CenterX, CenterY, Width, Height],...]\n",
    "        Width:\n",
    "        Height:\n",
    "        S:\n",
    "        return [[Xmin, Ymin, Xmax, Ymax, Label],...]\n",
    "    \"\"\"\n",
    "\n",
    "    BBox = TorchIsistance(BBox)\n",
    "    if BBox.dim() == 1: BBox = BBox.reshape(1, -1)\n",
    "\n",
    "    S = float(S)\n",
    "    Label = BBox[..., -1].unsqueeze(-1)\n",
    "    WH = torch.Tensor([Width, Height]).unsqueeze(0)\n",
    "\n",
    "    XY0 = BBox[..., [0, 1]] / S\n",
    "    XYN = BBox[..., [2, 3]] / S + XY0\n",
    "    XYMIN = (XYN - 0.5 * BBox[..., [4, 5]]) * WH\n",
    "    XYMAX = (XYN + 0.5 * BBox[..., [4, 5]]) * WH\n",
    "\n",
    "    return torch.cat((XYMIN, XYMAX, Label), dim=1).ceil().long()\n",
    "DecB = DecoderBBox(EncB, 400, 400)\n",
    "print(DecB)"
   ]
  },
  {
   "cell_type": "code",
   "execution_count": 6,
   "id": "8a21dfcb-1a84-4bde-b117-f64ccd21d176",
   "metadata": {},
   "outputs": [
    {
     "name": "stdout",
     "output_type": "stream",
     "text": [
      "torch.Size([7, 7, 13])\n"
     ]
    }
   ],
   "source": [
    "def MakeTargetBBox(BBox: torch.Tensor, S: int, B: int, C: int) -> torch.Tensor:\n",
    "\n",
    "    \"\"\"\n",
    "        BBox: [[XIndex, YIndex, CenterX, CenterY, Width, Height, Label],...]\n",
    "        S:\n",
    "        B:\n",
    "        C\n",
    "        return Tensor(7, 7, B * 5 + C)\n",
    "    \"\"\"\n",
    "\n",
    "    BBox = TorchIsistance(BBox)\n",
    "    if (BBox.dim() == 1): BBox = BBox.reshape(1, -1)\n",
    "\n",
    "    N = B * 5 + C\n",
    "    Label = BBox[..., -1].unsqueeze(-1).long()\n",
    "    Target = torch.zeros(S, S, N)\n",
    "\n",
    "    X = BBox[..., 0].unsqueeze(-1).long()\n",
    "    Y = BBox[..., 1].unsqueeze(-1).long()\n",
    "\n",
    "    XYWH = BBox[..., [2, 3, 4, 5]]\n",
    "    Target[Y, X, [0, 1, 2, 3, 5, 6, 7, 8]] = torch.cat((XYWH, XYWH), dim=1)\n",
    "    Target[Y, X, [4, 9]] = torch.Tensor([1., 1.])\n",
    "    Target[Y, X, B * 5 + Label] = torch.Tensor([1.])\n",
    "\n",
    "    return Target\n",
    "    \n",
    "Target = MakeTargetBBox(EncB, 7, 2, 3)\n",
    "print(Target.shape)"
   ]
  },
  {
   "cell_type": "code",
   "execution_count": 7,
   "id": "863f2134-a8da-4de1-99c0-605c759334b3",
   "metadata": {},
   "outputs": [
    {
     "name": "stdout",
     "output_type": "stream",
     "text": [
      "torch.Size([2, 9])\n",
      "tensor([[3.0000, 3.0000, 0.5000, 0.5000, 0.5000, 0.5000, 1.0000, 1.0000, 0.0000],\n",
      "        [3.0000, 3.0000, 0.5000, 0.5000, 0.5000, 0.5000, 1.0000, 1.0000, 0.0000]])\n"
     ]
    }
   ],
   "source": [
    "def DetectBBox(BBox: torch.Tensor, probThreshold: float, S: int, B: int, C: int) -> torch.Tensor:\n",
    "\n",
    "    assert BBox.dim() < 4 # 0 ~ 3 Clear!\n",
    "\n",
    "    X = torch.arange(7).unsqueeze(-1).expand(S, S)\n",
    "    Y = torch.arange(7).unsqueeze(-1).expand(S, S).transpose(1, 0)\n",
    "\n",
    "    Class = BBox[..., 10:].reshape(S, S, C)\n",
    "    Conf = BBox[..., [4, 9]].reshape(S, S, B)\n",
    "    BBoxes = BBox[..., [0, 1, 2, 3, 5, 6, 7, 8]].reshape(S, S, B, 4)\n",
    "\n",
    "    ClassScore, ClassIndex = Class.max(-1)\n",
    "    maskProb = (Conf * ClassScore.unsqueeze(-1).expand_as(Conf)) > probThreshold\n",
    "    \n",
    "    X = X.unsqueeze(-1).expand_as(maskProb)[maskProb].unsqueeze(-1)\n",
    "    Y = Y.unsqueeze(-1).expand_as(maskProb)[maskProb].unsqueeze(-1)\n",
    "    XY = torch.concat((X, Y), dim=-1)\n",
    "    XYMINMAX = BBoxes[maskProb]\n",
    "    Conf = Conf[maskProb].unsqueeze(-1)\n",
    "    ClassIndex = ClassIndex.unsqueeze(-1).expand_as(maskProb)[maskProb].unsqueeze(-1)\n",
    "    ClassScore = ClassScore.unsqueeze(-1).expand_as(maskProb)[maskProb].unsqueeze(-1)\n",
    "\n",
    "    return torch.concat((XY, XYMINMAX, Conf, ClassScore, ClassIndex), dim=-1)\n",
    "\n",
    "detechBBox = DetectBBox(Target, 0.2, 7, 2, 3)\n",
    "print(detechBBox.shape)\n",
    "print(detechBBox)"
   ]
  },
  {
   "cell_type": "code",
   "execution_count": 8,
   "id": "1733d18b-66f0-455d-bd88-fc58c7b1441d",
   "metadata": {},
   "outputs": [
    {
     "name": "stdout",
     "output_type": "stream",
     "text": [
      "torch.Size([29, 9])\n"
     ]
    }
   ],
   "source": [
    "def NonMaximumSuppression(BBox: torch.Tensor, Scores: torch.Tensor, threshold: float = 0.5) -> torch.Tensor:\n",
    "    \n",
    "    \"\"\"\n",
    "        BBox: [[Xmin, Ymin, Xmax, Ymax], ...]\n",
    "        Scores: [Score Value, ...]\n",
    "        threshold:\n",
    "        return [index, ...]\n",
    "    \"\"\"\n",
    "\n",
    "    BBox = TorchIsistance(BBox)\n",
    "    if (BBox.size(0) == 0): return BBox\n",
    "    if (BBox.dim() == 1): BBox = BBox.unsqueeze(0)\n",
    "\n",
    "    X1, Y1, X2, Y2 = list(map(lambda x: x.squeeze(1), torch.hsplit(BBox, 4)))\n",
    "    \n",
    "    Areas = (X2 - X1 + 1) * (Y2 - Y1 + 1)\n",
    "    _, Index = torch.sort(Scores, descending=True)\n",
    "    Output = []\n",
    "    while Index.numel() > 0:\n",
    "        Select = Index.long().item() if (Index.numel() == 1) else Index[0].long()\n",
    "        \n",
    "        Output.append(Select)\n",
    "        if (Index.numel() == 1): break\n",
    "\n",
    "        # Cul IoU\n",
    "        index = Index[1:].long()\n",
    "        x1 = X1[index].clamp(min=X1[Select])\n",
    "        y1 = Y1[index].clamp(min=Y1[Select])\n",
    "        x2 = X2[index].clamp(max=X2[Select])\n",
    "        y2 = Y2[index].clamp(max=Y2[Select])\n",
    "        Intersection = (torch.clamp(x2 - x1 + 1, min=0) * torch.clamp(y2 - y1 + 1, min=0))\n",
    "        Unions = Areas[Select] + Areas[index] - Intersection\n",
    "        IoUs = Intersection / Unions\n",
    "\n",
    "        # Delete Index\n",
    "        IndexKeep = (IoUs <= threshold).nonzero().squeeze()\n",
    "        if (IndexKeep.numel() == 0): break\n",
    "        Index = Index[IndexKeep + 1]\n",
    "\n",
    "    return torch.LongTensor(Output)\n",
    "\n",
    "torch.manual_seed(1)\n",
    "torch.cuda.manual_seed(1)\n",
    "Predict = torch.rand(1, 7, 7, 13)\n",
    "Detect = DetectBBox(Predict[0], 0.1, 7, 2, 3)\n",
    "Decoder = DecoderBBox(Detect, 400, 400)\n",
    "Label_0 = Detect[(Detect[..., -1] == 0).unsqueeze(-1).expand_as(Detect)].reshape(-1, 9)\n",
    "print(Label_0.shape)\n",
    "Boxes = Label_0[..., [2, 3, 4, 5]][:10]\n",
    "Scores = Label_0[..., -1][:10]\n",
    "NMS = NonMaximumSuppression(Boxes, Scores)"
   ]
  },
  {
   "cell_type": "code",
   "execution_count": 17,
   "id": "081de91c-223b-441e-8b5c-1ef62b1fa7c6",
   "metadata": {},
   "outputs": [],
   "source": [
    "def DetectProcessing(Predicts: torch.Tensor, probThreshold: float, iouThreshold: float, Width: int, Height: int, S: int, B: int, C: int):\n",
    "    \n",
    "    Detect = DetectBBox(Predicts, probThreshold, S, B, C)\n",
    "    \n",
    "    Container = []\n",
    "    for label in range(C):\n",
    "        Select = Detect[(Detect[..., -1] == label).unsqueeze(-1).expand_as(Detect)].reshape(-1, 9)\n",
    "        Indexs = Select[..., [0, 1]]\n",
    "        Boxes = Select[..., [2, 3, 4, 5]]\n",
    "        Confidences = Select[..., -3]\n",
    "        Scores = Select[..., -2]\n",
    "        Probs = Scores * Confidences\n",
    "        \n",
    "        NMS = NonMaximumSuppression(Boxes, Scores, iouThreshold)\n",
    "        if (NMS.numel() == 0): continue\n",
    "        Indexs = Indexs[NMS]\n",
    "        Boxes = Boxes[NMS]\n",
    "        Probs = Probs[NMS].unsqueeze(-1)\n",
    "        Labels = torch.Tensor([label]).unsqueeze(-1).expand(NMS.size(0), 1)\n",
    "        \n",
    "        output = torch.concat((Indexs, Boxes, Probs, Labels), dim=-1)\n",
    "        Decoder = DecoderBBox(output, Width, Height, S)\n",
    "        Container += [torch.concat((Decoder, Probs), dim=-1)]\n",
    "        \n",
    "    return Container"
   ]
  },
  {
   "cell_type": "code",
   "execution_count": 204,
   "id": "c98b0c28-cb88-4e2f-8da3-f4e5cfa0a3c6",
   "metadata": {},
   "outputs": [],
   "source": [
    "def AveragePrecision(Predict: torch.Tensor, Target: torch.Tensor, C: int):\n",
    "\n",
    "    output = {}\n",
    "    for label in range(len(Target)):\n",
    "        pBBox = Predict[label]\n",
    "        tBBox = Target[label]\n",
    "        \n",
    "        output[label] = []\n",
    "        for tbox in tBBox:\n",
    "            Size = pBBox.size(0)\n",
    "            _, Sorted = torch.sort(pBBox[..., -1] ,descending=True)\n",
    "            pBBox = pBBox[Sorted]\n",
    "            Scores = pBBox[..., -1].reshape(-1)\n",
    "            iou = (IntersectionOverUnion(pBBox[..., :4], tbox[:4]) > 0.5).reshape(-1)\n",
    "            TP = torch.cumsum((iou == True).long(), dim=0)\n",
    "            FP = torch.cumsum((iou == False).long(), dim=0)\n",
    "            Precision = TP / (TP + FP)\n",
    "            Recall = TP / Size\n",
    "            Precision = torch.concat((torch.Tensor([0]), Precision, torch.Tensor([0])))\n",
    "            Recall = torch.concat((torch.Tensor([0]), Recall, torch.Tensor([1])))\n",
    "            reversPrecision = Precision.flip(dims=(0,))\n",
    "            PrecisionValues= torch.cummax(reversPrecision, dim=0)[0].flip(dims=(0,))\n",
    "            AP = (torch.diff(Recall) * Precision[1:]).sum()\n",
    "            output[label] += [AP]\n",
    "\n",
    "    return output\n",
    "\n",
    "def MeanAveragePrecision(AP: dict, C: int):\n",
    "    Output = {key: 0 for key in AP.keys()}\n",
    "    for key, value in AP.items():\n",
    "        value = torch.Tensor(value).mean()\n",
    "        Output[key] += value\n",
    "    return Output"
   ]
  }
 ],
 "metadata": {
  "kernelspec": {
   "display_name": "Python 3 (ipykernel)",
   "language": "python",
   "name": "python3"
  },
  "language_info": {
   "codemirror_mode": {
    "name": "ipython",
    "version": 3
   },
   "file_extension": ".py",
   "mimetype": "text/x-python",
   "name": "python",
   "nbconvert_exporter": "python",
   "pygments_lexer": "ipython3",
   "version": "3.9.18"
  }
 },
 "nbformat": 4,
 "nbformat_minor": 5
}
