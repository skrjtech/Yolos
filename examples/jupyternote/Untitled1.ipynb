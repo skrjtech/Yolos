{
 "cells": [
  {
   "cell_type": "code",
   "execution_count": 1,
   "id": "31e017b8-cf74-4ddf-a951-975d2c60b3a5",
   "metadata": {},
   "outputs": [
    {
     "name": "stderr",
     "output_type": "stream",
     "text": [
      "/aios/lib/python3.9/site-packages/torchvision/datapoints/__init__.py:12: UserWarning: The torchvision.datapoints and torchvision.transforms.v2 namespaces are still Beta. While we do not expect major breaking changes, some APIs may still change according to user feedback. Please submit any feedback you may have in this issue: https://github.com/pytorch/vision/issues/6753, and you can also check out https://github.com/pytorch/vision/issues/7319 to learn more about the APIs that we suspect might involve future changes. You can silence this warning by calling torchvision.disable_beta_transforms_warning().\n",
      "  warnings.warn(_BETA_TRANSFORMS_WARNING)\n",
      "/aios/lib/python3.9/site-packages/torchvision/transforms/v2/__init__.py:54: UserWarning: The torchvision.datapoints and torchvision.transforms.v2 namespaces are still Beta. While we do not expect major breaking changes, some APIs may still change according to user feedback. Please submit any feedback you may have in this issue: https://github.com/pytorch/vision/issues/6753, and you can also check out https://github.com/pytorch/vision/issues/7319 to learn more about the APIs that we suspect might involve future changes. You can silence this warning by calling torchvision.disable_beta_transforms_warning().\n",
      "  warnings.warn(_BETA_TRANSFORMS_WARNING)\n"
     ]
    }
   ],
   "source": [
    "import yolos\n",
    "import torch\n",
    "import torchvision\n",
    "from torchvision.transforms.v2 import functional as F\n",
    "import matplotlib.pyplot as plt"
   ]
  },
  {
   "cell_type": "code",
   "execution_count": 2,
   "id": "6f54aa13-4d7a-4827-865b-09e48bc664f6",
   "metadata": {},
   "outputs": [
    {
     "name": "stderr",
     "output_type": "stream",
     "text": [
      "/aios/lib/python3.9/site-packages/torchvision/models/_utils.py:208: UserWarning: The parameter 'pretrained' is deprecated since 0.13 and may be removed in the future, please use 'weights' instead.\n",
      "  warnings.warn(\n",
      "/aios/lib/python3.9/site-packages/torchvision/models/_utils.py:223: UserWarning: Arguments other than a weight enum or `None` for 'weights' are deprecated since 0.13 and may be removed in the future. The current behavior is equivalent to passing `weights=VGG16_Weights.IMAGENET1K_V1`. You can also use `weights=VGG16_Weights.DEFAULT` to get the most up-to-date weights.\n",
      "  warnings.warn(msg)\n"
     ]
    }
   ],
   "source": [
    "train = yolos.Training.TrainingModel(C=3)"
   ]
  },
  {
   "cell_type": "code",
   "execution_count": 3,
   "id": "8c06d3a0-96ff-41dc-9bd8-3786ac179217",
   "metadata": {},
   "outputs": [],
   "source": [
    "train.paramsSavePath = train.paramsSavePath.replace(\"params\", \"params5\")"
   ]
  },
  {
   "cell_type": "code",
   "execution_count": 4,
   "id": "c4534cbb-bd31-440b-b76a-e1aa96bc9187",
   "metadata": {},
   "outputs": [
    {
     "data": {
      "text/plain": [
       "'/yolos/outputs/params5.pt'"
      ]
     },
     "execution_count": 4,
     "metadata": {},
     "output_type": "execute_result"
    }
   ],
   "source": [
    "train.paramsSavePath"
   ]
  },
  {
   "cell_type": "code",
   "execution_count": 5,
   "id": "1154f0db-9fe5-4fb8-81be-48f802ce432a",
   "metadata": {},
   "outputs": [
    {
     "name": "stderr",
     "output_type": "stream",
     "text": [
      "/aios/lib/python3.9/site-packages/PIL/Image.py:970: UserWarning: Palette images with Transparency expressed in bytes should be converted to RGBA images\n",
      "  warnings.warn(\n"
     ]
    },
    {
     "name": "stdout",
     "output_type": "stream",
     "text": [
      "epoch(0000):  loss(5.6962) | MeanAPs(0.6222)\n"
     ]
    }
   ],
   "source": [
    "train.Run(1)"
   ]
  },
  {
   "cell_type": "code",
   "execution_count": null,
   "id": "1bd215b1-0e7b-4976-a3ef-4a249ed13610",
   "metadata": {},
   "outputs": [],
   "source": [
    "train.Run(500)"
   ]
  },
  {
   "cell_type": "code",
   "execution_count": 5,
   "id": "3080a64f-a156-40d2-93f3-579b2bc86afa",
   "metadata": {},
   "outputs": [],
   "source": [
    "train.Load()"
   ]
  },
  {
   "cell_type": "code",
   "execution_count": 11,
   "id": "e485c641-ed92-472a-b509-4fab3ca03a97",
   "metadata": {},
   "outputs": [
    {
     "name": "stderr",
     "output_type": "stream",
     "text": [
      "/aios/lib/python3.9/site-packages/PIL/Image.py:970: UserWarning: Palette images with Transparency expressed in bytes should be converted to RGBA images\n",
      "  warnings.warn(\n"
     ]
    },
    {
     "name": "stdout",
     "output_type": "stream",
     "text": [
      "epoch(0000):  loss(0.0271) | MeanAPs(0.6222)\n"
     ]
    }
   ],
   "source": [
    "train.Run(1)"
   ]
  },
  {
   "cell_type": "code",
   "execution_count": 6,
   "id": "3cf895f9-9433-4dd4-b722-99133e91f7d8",
   "metadata": {},
   "outputs": [],
   "source": [
    "input, target = next(iter(train.dataloader))\n",
    "train.net.cuda()\n",
    "output = train.net(input.cuda()).detach().cpu()\n",
    "# for index in range(4):\n",
    "#     detect = yolos.Detects.Detect(224, 224)\n",
    "#     print(detect(output[index]))\n",
    "#     box = torch.Tensor([[box.xmin, box.ymin, box.xmax, box.ymax] for box in detect(output[index])])\n",
    "#     if box.size(0) > 0:\n",
    "#         image = F.convert_dtype(input[index], torch.uint8)\n",
    "#         annotated_image = torchvision.utils.draw_bounding_boxes(image, box, colors=\"yellow\", width=3)\n",
    "#         plt.figure()\n",
    "#         plt.imshow(annotated_image.permute(1, 2, 0).numpy())"
   ]
  }
 ],
 "metadata": {
  "kernelspec": {
   "display_name": "Python 3 (ipykernel)",
   "language": "python",
   "name": "python3"
  },
  "language_info": {
   "codemirror_mode": {
    "name": "ipython",
    "version": 3
   },
   "file_extension": ".py",
   "mimetype": "text/x-python",
   "name": "python",
   "nbconvert_exporter": "python",
   "pygments_lexer": "ipython3",
   "version": "3.9.18"
  }
 },
 "nbformat": 4,
 "nbformat_minor": 5
}
