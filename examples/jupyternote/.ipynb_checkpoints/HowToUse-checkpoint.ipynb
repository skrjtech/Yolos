{
 "cells": [
  {
   "cell_type": "code",
   "execution_count": 1,
   "id": "f7fa4767-7d78-4c95-9df2-9f4b16ca9f44",
   "metadata": {},
   "outputs": [],
   "source": [
    "import torch\n",
    "import yolos"
   ]
  },
  {
   "cell_type": "code",
   "execution_count": null,
   "id": "61242c3d-98e5-4cbc-8aba-c15e9d2168b1",
   "metadata": {},
   "outputs": [],
   "source": []
  }
 ],
 "metadata": {
  "kernelspec": {
   "display_name": "Python 3 (ipykernel)",
   "language": "python",
   "name": "python3"
  },
  "language_info": {
   "codemirror_mode": {
    "name": "ipython",
    "version": 3
   },
   "file_extension": ".py",
   "mimetype": "text/x-python",
   "name": "python",
   "nbconvert_exporter": "python",
   "pygments_lexer": "ipython3",
   "version": "3.9.18"
  }
 },
 "nbformat": 4,
 "nbformat_minor": 5
}
