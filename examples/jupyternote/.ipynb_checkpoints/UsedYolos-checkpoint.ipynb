{
 "cells": [
  {
   "cell_type": "code",
   "execution_count": 1,
   "id": "4a48f685-6ce6-46ec-9d8b-e89e287fb331",
   "metadata": {},
   "outputs": [],
   "source": [
    "import torch\n",
    "import yolos"
   ]
  },
  {
   "cell_type": "code",
   "execution_count": 2,
   "id": "d8ba4082-8b24-4081-8fb2-15ce38725b6f",
   "metadata": {},
   "outputs": [
    {
     "data": {
      "text/plain": [
       "(S:   7 | B:   2 | C:   2 | N[B・5＋C]:  12) | (ProThreshold: 0.300 | NMSThreshold: 0.500 | IoUThreshold: 0.500) | (LambdaObj: 5.000 | LambdaNoObj: 0.500)"
      ]
     },
     "execution_count": 2,
     "metadata": {},
     "output_type": "execute_result"
    }
   ],
   "source": [
    "yolos.YoloBoxes.YoloRoot(C=2)"
   ]
  },
  {
   "cell_type": "code",
   "execution_count": 9,
   "id": "0c0a23f3-fce7-4f62-94f3-3d276b2236d0",
   "metadata": {},
   "outputs": [
    {
     "name": "stderr",
     "output_type": "stream",
     "text": [
      "/aios/lib/python3.9/site-packages/torchvision/models/_utils.py:208: UserWarning: The parameter 'pretrained' is deprecated since 0.13 and may be removed in the future, please use 'weights' instead.\n",
      "  warnings.warn(\n",
      "/aios/lib/python3.9/site-packages/torchvision/models/_utils.py:223: UserWarning: Arguments other than a weight enum or `None` for 'weights' are deprecated since 0.13 and may be removed in the future. The current behavior is equivalent to passing `weights=VGG16_Weights.IMAGENET1K_V1`. You can also use `weights=VGG16_Weights.DEFAULT` to get the most up-to-date weights.\n",
      "  warnings.warn(msg)\n"
     ]
    }
   ],
   "source": [
    "net = yolos.Models.YoloV1()\n",
    "optmizer = torch.optim.Adam(net.parameters(), lr=0.0001)\n",
    "yololoss = yolos.Models.YoloLossModel()"
   ]
  },
  {
   "cell_type": "code",
   "execution_count": 10,
   "id": "432f839e-9215-4639-b2a2-950ac88e3629",
   "metadata": {},
   "outputs": [],
   "source": [
    "yoloboxes1 = yolos.YoloBoxes.YoloBoxes(444, 444)\n",
    "yoloboxes1 += yolos.BoundingBox.BoundingBox(250, 250, 300, 300, \"A\", 0)\n",
    "yoloboxes1 += yolos.BoundingBox.BoundingBox(340, 340, 420, 420, \"A\", 0)\n",
    "\n",
    "yoloboxes2 = yolos.YoloBoxes.YoloBoxes(333, 333)\n",
    "yoloboxes2 += yolos.BoundingBox.BoundingBox(50, 50, 120, 120, \"B\", 0)\n",
    "yoloboxes2 += yolos.BoundingBox.BoundingBox(250, 250, 290, 290, \"B\", 0)\n",
    "\n",
    "Input = torch.rand(2, 3, 224, 224)\n",
    "Target = torch.stack([yoloboxes1(), yoloboxes2()])"
   ]
  },
  {
   "cell_type": "code",
   "execution_count": 11,
   "id": "321eef7f-e62d-4ec4-8fbc-5bdad8ec26a7",
   "metadata": {},
   "outputs": [],
   "source": [
    "Output = net(Input)"
   ]
  },
  {
   "cell_type": "code",
   "execution_count": null,
   "id": "59dada02-008e-408d-94e0-9ad4fb31e008",
   "metadata": {},
   "outputs": [],
   "source": [
    "loss = 1.0\n",
    "while loss > 0.01:\n",
    "    optmizer.zero_grad()\n",
    "    inputs = torch.FloatTensor(Input)\n",
    "    T = torch.FloatTensor(Target)\n",
    "    output = net(inputs)\n",
    "    loss_ = yololoss(output, T)\n",
    "    loss_.backward()\n",
    "    loss = loss_.item()\n",
    "    optmizer.step()"
   ]
  }
 ],
 "metadata": {
  "kernelspec": {
   "display_name": "Python 3 (ipykernel)",
   "language": "python",
   "name": "python3"
  },
  "language_info": {
   "codemirror_mode": {
    "name": "ipython",
    "version": 3
   },
   "file_extension": ".py",
   "mimetype": "text/x-python",
   "name": "python",
   "nbconvert_exporter": "python",
   "pygments_lexer": "ipython3",
   "version": "3.9.18"
  }
 },
 "nbformat": 4,
 "nbformat_minor": 5
}
