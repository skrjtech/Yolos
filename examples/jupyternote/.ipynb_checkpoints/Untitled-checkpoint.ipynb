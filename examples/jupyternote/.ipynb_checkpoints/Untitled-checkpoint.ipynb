{
 "cells": [
  {
   "cell_type": "code",
   "execution_count": 1,
   "id": "9a980640-0c5d-4852-8d1c-2276026fa9b5",
   "metadata": {},
   "outputs": [],
   "source": [
    "import torch\n",
    "import torchvision\n",
    "import numpy as np\n",
    "import yolos"
   ]
  },
  {
   "cell_type": "code",
   "execution_count": 344,
   "id": "458d1930-044d-47cb-a723-42b8f552cca1",
   "metadata": {},
   "outputs": [],
   "source": [
    "class YOLOMODEL(torch.nn.Module):\n",
    "    def __init__(self, S: int = 7, B: int = 2, C: int = 20, *args, **kwargs) -> None:\n",
    "        super(YOLOMODEL, self).__init__(*args, **kwargs)\n",
    "\n",
    "        self.S, self.B, self.C = S, B, C\n",
    "        self.N = B * 5 + C\n",
    "\n",
    "class YoloLossModel(YOLOMODEL):\n",
    "    def __init__(self, lambdaobj: float = 5., lambdanoobj: float = .5, *args, **kwargs):\n",
    "        super(YoloLossModel, self).__init__(*args, **kwargs)\n",
    "\n",
    "        self.lambdaobj = lambdaobj\n",
    "        self.lambdanoobj = lambdanoobj\n",
    "\n",
    "        self.CI = [4, 9]  # Confidence Index\n",
    "        self.BI = [[0, 1, 2, 3], [5, 6, 7, 8]]  # BBoxIndex\n",
    "        self.LI = [self.B * 5 + idx for idx in range(self.C)]  # Label Index\n",
    "        self.XYI = [0, 1]  # XY or XYMin\n",
    "        self.WHI = [2, 3]  # WH or XYMax\n",
    "\n",
    "    def forward(self, P: torch.Tensor, T: torch.Tensor):\n",
    "        B, C, N = self.B, self.C, self.N\n",
    "        CI = self.CI\n",
    "        BI = self.BI\n",
    "        LI = self.LI\n",
    "        XYI = self.XYI\n",
    "        WHI = self.WHI\n",
    "\n",
    "        Batch = P.size(0)\n",
    "\n",
    "        coordMask = (T[..., 4] == 1).unsqueeze(-1).expand_as(T)\n",
    "        noobjMask = (T[..., 4] == 0).unsqueeze(-1).expand_as(T)\n",
    "\n",
    "        coordP = P[coordMask].reshape(-1, N)  # [coord_n, N]\n",
    "        noobjP = P[noobjMask].reshape(-1, N)  # [coord_n, N]\n",
    "\n",
    "        coordT = T[coordMask].reshape(-1, N)  # [coord_n, N]\n",
    "        noobjT = T[noobjMask].reshape(-1, N)  # [coord_n, N]\n",
    "\n",
    "        # Class Label\n",
    "        ClassP = coordP[..., LI].reshape(-1, C)  # [coord_n, C]\n",
    "        ClassT = coordT[..., LI].reshape(-1, C)  # [coord_n, C]\n",
    "        # No Object Confidence\n",
    "        NoObjP = noobjP[..., CI].reshape(-1, B)  # [nooobj_n, B]\n",
    "        NoObjT = noobjT[..., CI].reshape(-1, B)  # [nooobj_n, B]\n",
    "        # Object Confidence\n",
    "        ConfP = coordP[..., CI].reshape(-1, B);  # [coord_n, B]\n",
    "        # BBox\n",
    "        BBoxP = coordP[..., BI].reshape(-1, B, 4)  # [coord_n, B, 4(XYXY)]\n",
    "        BBoxT = coordT[..., BI].reshape(-1, B, 4)  # [coord_n, B, 4(XYXY)]\n",
    "\n",
    "        with torch.no_grad():\n",
    "            iou, iouIndex = self.IoUCul(BBoxP.reshape(-1, 4), BBoxT.reshape(-1, 4))\n",
    "\n",
    "        Range = torch.arange(iouIndex.size(0)).long()\n",
    "        BBoxP = BBoxP[Range, iouIndex].reshape(-1, 4)\n",
    "        BBoxT = BBoxT[Range, iouIndex].reshape(-1, 4)\n",
    "        ConfP = ConfP[Range, iouIndex]\n",
    "\n",
    "        lossXY = torch.nn.functional.mse_loss(BBoxP[..., XYI], BBoxT[..., XYI], reduction=\"sum\")\n",
    "        lossWH = torch.nn.functional.mse_loss(torch.sqrt(BBoxP[..., WHI]), torch.sqrt(BBoxT[..., WHI]), reduction=\"sum\")\n",
    "        lossObj = torch.nn.functional.mse_loss(ConfP, iou, reduction=\"sum\")\n",
    "        lossNObj = torch.nn.functional.mse_loss(NoObjP, NoObjT, reduction=\"sum\")\n",
    "        lossClass = torch.nn.functional.mse_loss(ClassP, ClassT, reduction=\"sum\")\n",
    "        loss = (self.lambdaobj * (lossXY + lossWH) + self.lambdanoobj * (lossNObj) + (lossObj + lossClass)) / Batch\n",
    "        return loss\n",
    "\n",
    "    def IoUCul(self, P, T):\n",
    "        \"\"\"\n",
    "        P (input): [Batch, coord_n, xywh]\n",
    "        T (input): [Batch, coord_n, xywh]\n",
    "        \"\"\"\n",
    "\n",
    "        XYI = self.XYI\n",
    "        WHI = self.WHI\n",
    "\n",
    "        S = 7\n",
    "        P = P.clone()\n",
    "        T = T.clone()\n",
    "\n",
    "        PXYMIN = P[..., XYI] / float(S) - 0.5 * P[..., WHI]\n",
    "        PXYMAX = P[..., XYI] / float(S) + 0.5 * P[..., WHI]\n",
    "\n",
    "        TXYMIN = T[..., XYI] / float(S) - 0.5 * T[..., WHI]\n",
    "        TXYMAX = T[..., XYI] / float(S) + 0.5 * T[..., WHI]\n",
    "\n",
    "        lt = torch.max(PXYMIN, TXYMIN)\n",
    "        rb = torch.min(PXYMAX, TXYMAX)\n",
    "\n",
    "        wh = torch.clamp(rb - lt, min=0.)\n",
    "        intersect = (wh[..., 0] * wh[..., 1])\n",
    "\n",
    "        Area1 = (PXYMAX - PXYMIN)\n",
    "        Area1 = Area1[..., 0] * Area1[..., 1]\n",
    "        Area2 = (TXYMAX - TXYMIN)\n",
    "        Area2 = Area2[..., 0] * Area2[..., 1]\n",
    "        Union = Area1 + Area2 - intersect\n",
    "\n",
    "        iou = intersect / Union\n",
    "        return torch.max(iou.reshape(-1, 2), dim=1)\n",
    "\n",
    "class YoloV1(YOLOMODEL):\n",
    "    def __init__(self, *args, **kwargs) -> None:\n",
    "        super(YoloV1, self).__init__(*args, **kwargs)\n",
    "\n",
    "        self.vgg = vgg = torchvision.models.vgg16(pretrained=True)\n",
    "        vgg.features.requires_grad_()\n",
    "        vgg.avgpool.requires_grad_()\n",
    "\n",
    "        vgg.classifier = torch.nn.Sequential(\n",
    "            torch.nn.Flatten(),\n",
    "            torch.nn.Linear(512 * 7 * 7, 512),\n",
    "            torch.nn.ReLU(inplace=True),\n",
    "            torch.nn.Linear(512, self.S * self.S * self.N),\n",
    "            torch.nn.Sigmoid()\n",
    "        )\n",
    "\n",
    "    def forward(self, inp):\n",
    "        return self.vgg(inp).reshape(-1, self.S, self.S, self.N)\n",
    "\n",
    "    def Testing(self):\n",
    "        with torch.no_grad():\n",
    "            return self.forward(torch.rand(1, 3, 224, 224))\n",
    "\n",
    "def TorchIsistance(Tensor: any) -> torch.Tensor:\n",
    "\n",
    "    T = lambda: torch.Tensor(Tensor)\n",
    "    if isinstance(Tensor, list): return T()\n",
    "    elif isinstance(Tensor, tuple): return T()\n",
    "    elif isinstance(Tensor, np.ndarray): return T()\n",
    "    return Tensor\n",
    "\n",
    "def EncoderBBox(BBox: torch.Tensor, Width: int, Height: int, S: int = 7) -> torch.Tensor:\n",
    "\n",
    "    \"\"\"\n",
    "        BBox: [[Xmin, Ymin, Xmax, Ymax, Label],...]\n",
    "        Width:\n",
    "        Height:\n",
    "        S:\n",
    "        return [[XIndex, YIndex, CenterX, CenterY, Width, Height],...]\n",
    "    \"\"\"\n",
    "\n",
    "    BBox = TorchIsistance(BBox)\n",
    "    if BBox.dim() == 1: BBox = BBox.reshape(1, -1)\n",
    "\n",
    "    S = float(S)\n",
    "    Label = BBox[..., -1].unsqueeze(-1)\n",
    "    WH = torch.Tensor([Width, Height]).unsqueeze(0)\n",
    "\n",
    "    XYXY = BBox[..., :4] / torch.cat((WH, WH), dim=1)\n",
    "    XYC = (XYXY[..., [2, 3]] + XYXY[..., [0, 1]]) / 2.\n",
    "    WH = (XYXY[..., [2, 3]] - XYXY[..., [0, 1]])\n",
    "\n",
    "    XYI = (XYC * S).ceil() - 1.\n",
    "    XYN = (XYC - (XYI / S)) * S\n",
    "\n",
    "    return torch.cat((XYI, XYN, WH, Label), dim=1)\n",
    "\n",
    "def MakeTargetBBox(BBox: torch.Tensor, S: int, B: int, C: int) -> torch.Tensor:\n",
    "\n",
    "    \"\"\"\n",
    "        BBox: [[XIndex, YIndex, CenterX, CenterY, Width, Height, Label],...]\n",
    "        S:\n",
    "        B:\n",
    "        C\n",
    "        return Tensor(7, 7, B * 5 + C)\n",
    "    \"\"\"\n",
    "\n",
    "    BBox = TorchIsistance(BBox)\n",
    "    if (BBox.dim() == 1): BBox = BBox.reshape(1, -1)\n",
    "\n",
    "    N = B * 5 + C\n",
    "    Label = BBox[..., -1].unsqueeze(-1).long()\n",
    "    Target = torch.zeros(S, S, N)\n",
    "\n",
    "    X = BBox[..., 0].unsqueeze(-1).long()\n",
    "    Y = BBox[..., 1].unsqueeze(-1).long()\n",
    "\n",
    "    XYWH = BBox[..., [2, 3, 4, 5]]\n",
    "    Target[Y, X, [0, 1, 2, 3, 5, 6, 7, 8]] = torch.cat((XYWH, XYWH), dim=1)\n",
    "    Target[Y, X, [4, 9]] = torch.Tensor([1., 1.])\n",
    "    Target[Y, X, B * 5 + Label] = torch.Tensor([1.])\n",
    "\n",
    "    return Target\n",
    "\n",
    "def makeBBoxes(num: int=1):\n",
    "    BBoxes = []\n",
    "    while len(BBoxes) < num:\n",
    "        x1 = torch.randint(0, 350, size=(1,))\n",
    "        y1 = torch.randint(0, 350, size=(1,))\n",
    "        x2 = torch.randint(50, 400, size=(1,))\n",
    "        y2 = torch.randint(50, 400, size=(1,))\n",
    "        label = torch.randint(0, 3, size=(1,))\n",
    "        if x1 < x2 and y1 < y2:\n",
    "            BBoxes += [[x1, y1, x2, y2, label]]\n",
    "    return torch.Tensor(BBoxes)"
   ]
  },
  {
   "cell_type": "code",
   "execution_count": 93,
   "id": "66a896bf-1011-48d9-bf3e-1f2012169af3",
   "metadata": {},
   "outputs": [],
   "source": [
    "torch.manual_seed(123)\n",
    "BBoxes = makeBBoxes()\n",
    "enc = EncoderBBox(BBoxes, 400, 400)\n",
    "Target = MakeTargetBBox(enc, 7, 2, 3).unsqueeze(0)"
   ]
  },
  {
   "cell_type": "code",
   "execution_count": 94,
   "id": "fc1dd929-1a06-4885-99f3-1c8387170f9e",
   "metadata": {},
   "outputs": [],
   "source": [
    "Boxes = yolos.YoloBoxes.YoloBoxes(400, 400, C=3)\n",
    "for box in BBoxes:\n",
    "    x1, y1, x2, y2, id = list(map(lambda x: int(x.item()), box))\n",
    "    Boxes += yolos.YoloBoxes.YoloBox(\"UnKnow\", id, x1, y1, x2, y2)"
   ]
  },
  {
   "cell_type": "code",
   "execution_count": 95,
   "id": "a26db1fe-5e6d-4850-83e5-f196f153143c",
   "metadata": {},
   "outputs": [
    {
     "data": {
      "text/plain": [
       "Width( 400 ), Height( 400 )\n",
       "  ( 0 )( objname: UnKnow | objid:     1 ), ( xmin:  192 | ymin:   86 ), ( xmax:  207 | ymax:  349 )\n",
       "  ( 1 )( objname: UnKnow | objid:     1 ), ( xmin:   61 | ymin:   21 ), ( xmax:  116 | ymax:  271 )\n",
       "  ( 2 )( objname: UnKnow | objid:     1 ), ( xmin:  150 | ymin:   66 ), ( xmax:  155 | ymax:  147 )"
      ]
     },
     "execution_count": 95,
     "metadata": {},
     "output_type": "execute_result"
    }
   ],
   "source": [
    "Boxes"
   ]
  },
  {
   "cell_type": "code",
   "execution_count": 96,
   "id": "c5cc0118-0e55-4124-886f-7ba299b97bc7",
   "metadata": {},
   "outputs": [
    {
     "name": "stdout",
     "output_type": "stream",
     "text": [
      "torch.Size([7, 7, 13])\n"
     ]
    }
   ],
   "source": [
    "Target = Boxes()\n",
    "print(Target.shape)"
   ]
  },
  {
   "cell_type": "code",
   "execution_count": 98,
   "id": "8a3922f9-0973-4a98-bbb4-be40f862210d",
   "metadata": {},
   "outputs": [],
   "source": [
    "lossmodel = YoloLossModel(C=3)\n",
    "# lossmodel = yolos.Models.YoloLossModel(C=3)"
   ]
  },
  {
   "cell_type": "code",
   "execution_count": 99,
   "id": "4864b1f2-e2b2-4b8b-bf3c-376e0b9cbda0",
   "metadata": {},
   "outputs": [],
   "source": [
    "Data = torch.zeros(*(1, 3, 224, 224))\n",
    "Input = torch.FloatTensor(Data)\n",
    "Target = torch.FloatTensor(Target)"
   ]
  },
  {
   "cell_type": "code",
   "execution_count": 100,
   "id": "dbc4d104-58a6-4b20-8bf7-2a4434842bc4",
   "metadata": {},
   "outputs": [
    {
     "name": "stderr",
     "output_type": "stream",
     "text": [
      "/aios/lib/python3.9/site-packages/torchvision/models/_utils.py:208: UserWarning: The parameter 'pretrained' is deprecated since 0.13 and may be removed in the future, please use 'weights' instead.\n",
      "  warnings.warn(\n",
      "/aios/lib/python3.9/site-packages/torchvision/models/_utils.py:223: UserWarning: Arguments other than a weight enum or `None` for 'weights' are deprecated since 0.13 and may be removed in the future. The current behavior is equivalent to passing `weights=VGG16_Weights.IMAGENET1K_V1`. You can also use `weights=VGG16_Weights.DEFAULT` to get the most up-to-date weights.\n",
      "  warnings.warn(msg)\n"
     ]
    }
   ],
   "source": [
    "net = YoloV1(C=3)\n",
    "optim = torch.optim.Adam(net.parameters(), lr=0.0001, betas=(0.9, 0.999))"
   ]
  },
  {
   "cell_type": "code",
   "execution_count": 101,
   "id": "038a5a5f-085e-441f-87d2-9ef3b4c0c4cf",
   "metadata": {},
   "outputs": [
    {
     "name": "stdout",
     "output_type": "stream",
     "text": [
      "loss:  0000.00060\r"
     ]
    }
   ],
   "source": [
    "loss = 0.\n",
    "while not ((loss > 0.) and (loss < 0.001)):\n",
    "    optim.zero_grad()\n",
    "    pred = net(Data)\n",
    "    loss = lossmodel(pred, Target.unsqueeze(0))\n",
    "    loss.backward()\n",
    "    optim.step()\n",
    "    print(f\"loss: {loss.item(): 011.05f}\", end=\"\\r\")\n",
    "pred = pred.squeeze()"
   ]
  },
  {
   "cell_type": "code",
   "execution_count": 102,
   "id": "35cb8a34-2f26-414c-a493-e01fcd4de194",
   "metadata": {},
   "outputs": [],
   "source": [
    "yolos.YoloBoxes.YoloRoot(C=3)\n",
    "detect = yolos.YoloBoxes.Detect(400, 400)\n",
    "P, T = detect(pred.detach(), Target.detach())"
   ]
  },
  {
   "cell_type": "code",
   "execution_count": 103,
   "id": "66567644-2d9d-4ec1-b73b-dd7d901ff9f9",
   "metadata": {},
   "outputs": [
    {
     "data": {
      "text/plain": [
       "Width( 400 ), Height( 400 )\n",
       "  ( 0 )( objname: None | objid:     1 ), ( xmin: 0061.000 | ymin: 0022.000 ), ( xmax: 0116.000 | ymax: 0269.000 ), ( Confidence: 0.977 )\n",
       "  ( 1 )( objname: None | objid:     1 ), ( xmin: 0150.000 | ymin: 0065.000 ), ( xmax: 0155.000 | ymax: 0147.000 ), ( Confidence: 0.968 )\n",
       "  ( 2 )( objname: None | objid:     1 ), ( xmin: 0191.000 | ymin: 0085.000 ), ( xmax: 0206.000 | ymax: 0349.000 ), ( Confidence: 0.961 )\n",
       "  ( 3 )( objname: None | objid:     1 ), ( xmin: 0063.000 | ymin: -069.000 ), ( xmax: 0064.000 | ymax: 0330.000 ), ( Confidence: 0.825 )"
      ]
     },
     "execution_count": 103,
     "metadata": {},
     "output_type": "execute_result"
    }
   ],
   "source": [
    "P.ToInt()"
   ]
  },
  {
   "cell_type": "code",
   "execution_count": 104,
   "id": "a51fb3fe-0800-48ac-a354-4c84224e37db",
   "metadata": {},
   "outputs": [
    {
     "data": {
      "text/plain": [
       "Width( 400 ), Height( 400 )\n",
       "  ( 0 )( objname: None | objid:     1 ), ( xmin: 0192.000 | ymin: 0085.000 ), ( xmax: 0207.000 | ymax: 0349.000 ), ( Confidence: 1.000 )\n",
       "  ( 1 )( objname: None | objid:     1 ), ( xmin: 0150.000 | ymin: 0066.000 ), ( xmax: 0155.000 | ymax: 0146.000 ), ( Confidence: 1.000 )\n",
       "  ( 2 )( objname: None | objid:     1 ), ( xmin: 0060.000 | ymin: 0021.000 ), ( xmax: 0116.000 | ymax: 0271.000 ), ( Confidence: 1.000 )"
      ]
     },
     "execution_count": 104,
     "metadata": {},
     "output_type": "execute_result"
    }
   ],
   "source": [
    "T.ToInt()"
   ]
  },
  {
   "cell_type": "code",
   "execution_count": 127,
   "id": "708aaaa2-8f1a-4253-ac48-f27bf47468c0",
   "metadata": {},
   "outputs": [],
   "source": [
    "TBox = [box()[2:] for box in Boxes.Decoder() for i in range(2)]"
   ]
  },
  {
   "cell_type": "code",
   "execution_count": 128,
   "id": "b0955a15-56a0-4d4e-954f-69490e6fe635",
   "metadata": {},
   "outputs": [],
   "source": [
    "TBox = torch.Tensor(TBox)"
   ]
  },
  {
   "cell_type": "code",
   "execution_count": 129,
   "id": "3f702841-c0a3-4f77-a5a9-15537aebef6e",
   "metadata": {},
   "outputs": [
    {
     "data": {
      "text/plain": [
       "torch.return_types.max(\n",
       "values=tensor([1., 1., 1.]),\n",
       "indices=tensor([0, 0, 0]))"
      ]
     },
     "execution_count": 129,
     "metadata": {},
     "output_type": "execute_result"
    }
   ],
   "source": [
    "IoUCul(TBox, TBox)"
   ]
  },
  {
   "cell_type": "code",
   "execution_count": 513,
   "id": "a68460a4-c6ec-4c8f-ba00-59c05e396578",
   "metadata": {},
   "outputs": [],
   "source": [
    "torch.manual_seed(123)"
   ]
  },
  {
   "cell_type": "code",
   "execution_count": 524,
   "id": "e61c396f-8184-4ea2-b9bb-b2db2ad9afeb",
   "metadata": {},
   "outputs": [],
   "source": [
    "BBoxes1 = makeBBoxes(3)\n",
    "Boxes1 = yolos.YoloBoxes.YoloBoxes(400, 400, C=1)\n",
    "for box in BBoxes1:\n",
    "    x1, y1, x2, y2, id = list(map(lambda x: int(x.item()), box))\n",
    "    Boxes1 += yolos.YoloBoxes.YoloBox(\"UnKnow\", id, x1, y1, x2, y2)\n",
    "Boxes1 = torch.Tensor([box()[2:] for box in Boxes1.Decoder() for i in range(2)])"
   ]
  },
  {
   "cell_type": "code",
   "execution_count": 525,
   "id": "9567cafc-2b3a-448c-b868-f4baf4a2fa41",
   "metadata": {},
   "outputs": [],
   "source": [
    "BBoxes2 = makeBBoxes(3)\n",
    "Boxes2 = yolos.YoloBoxes.YoloBoxes(400, 400, C=3)\n",
    "for box in BBoxes2:\n",
    "    x1, y1, x2, y2, id = list(map(lambda x: int(x.item()), box))\n",
    "    Boxes2 += yolos.YoloBoxes.YoloBox(\"UnKnow\", id, x1, y1, x2, y2)\n",
    "Boxes2 = torch.Tensor([box()[2:] for box in Boxes2.Decoder() for i in range(2)])"
   ]
  }
 ],
 "metadata": {
  "kernelspec": {
   "display_name": "Python 3 (ipykernel)",
   "language": "python",
   "name": "python3"
  },
  "language_info": {
   "codemirror_mode": {
    "name": "ipython",
    "version": 3
   },
   "file_extension": ".py",
   "mimetype": "text/x-python",
   "name": "python",
   "nbconvert_exporter": "python",
   "pygments_lexer": "ipython3",
   "version": "3.9.18"
  }
 },
 "nbformat": 4,
 "nbformat_minor": 5
}
