{
 "cells": [
  {
   "cell_type": "code",
   "execution_count": 1,
   "id": "4a48f685-6ce6-46ec-9d8b-e89e287fb331",
   "metadata": {},
   "outputs": [],
   "source": [
    "import torch\n",
    "import yolos"
   ]
  },
  {
   "cell_type": "code",
   "execution_count": 2,
   "id": "d8ba4082-8b24-4081-8fb2-15ce38725b6f",
   "metadata": {},
   "outputs": [
    {
     "data": {
      "text/plain": [
       "(S:   7 | B:   2 | C:   2 | N[B・5＋C]:  12) | (ProThreshold: 0.300 | NMSThreshold: 0.500 | IoUThreshold: 0.500) | (LambdaObj: 5.000 | LambdaNoObj: 0.500)"
      ]
     },
     "execution_count": 2,
     "metadata": {},
     "output_type": "execute_result"
    }
   ],
   "source": [
    "yolos.YoloBoxes.YoloRoot(C=2)"
   ]
  },
  {
   "cell_type": "code",
   "execution_count": 3,
   "id": "0c0a23f3-fce7-4f62-94f3-3d276b2236d0",
   "metadata": {},
   "outputs": [
    {
     "name": "stderr",
     "output_type": "stream",
     "text": [
      "/aios/lib/python3.9/site-packages/torchvision/models/_utils.py:208: UserWarning: The parameter 'pretrained' is deprecated since 0.13 and may be removed in the future, please use 'weights' instead.\n",
      "  warnings.warn(\n",
      "/aios/lib/python3.9/site-packages/torchvision/models/_utils.py:223: UserWarning: Arguments other than a weight enum or `None` for 'weights' are deprecated since 0.13 and may be removed in the future. The current behavior is equivalent to passing `weights=VGG16_Weights.IMAGENET1K_V1`. You can also use `weights=VGG16_Weights.DEFAULT` to get the most up-to-date weights.\n",
      "  warnings.warn(msg)\n"
     ]
    }
   ],
   "source": [
    "net = yolos.Models.YoloV1()\n",
    "optmizer = torch.optim.Adam(net.parameters(), lr=0.0001)\n",
    "yololoss = yolos.Models.YoloLossModel()"
   ]
  },
  {
   "cell_type": "code",
   "execution_count": 4,
   "id": "432f839e-9215-4639-b2a2-950ac88e3629",
   "metadata": {},
   "outputs": [],
   "source": [
    "yoloboxes1 = yolos.YoloBoxes.YoloBoxes(444, 444)\n",
    "yoloboxes1 += yolos.BoundingBox.BoundingBox(250, 250, 300, 300, \"A\", 0)\n",
    "yoloboxes1 += yolos.BoundingBox.BoundingBox(340, 340, 420, 420, \"A\", 0)\n",
    "\n",
    "yoloboxes2 = yolos.YoloBoxes.YoloBoxes(333, 333)\n",
    "yoloboxes2 += yolos.BoundingBox.BoundingBox(50, 50, 120, 120, \"B\", 1)\n",
    "yoloboxes2 += yolos.BoundingBox.BoundingBox(250, 250, 290, 290, \"B\", 1)\n",
    "\n",
    "Input = torch.rand(2, 3, 224, 224)\n",
    "Target = torch.stack([yoloboxes1(), yoloboxes2()])"
   ]
  },
  {
   "cell_type": "code",
   "execution_count": 5,
   "id": "321eef7f-e62d-4ec4-8fbc-5bdad8ec26a7",
   "metadata": {},
   "outputs": [],
   "source": [
    "Output = net(Input)"
   ]
  },
  {
   "cell_type": "code",
   "execution_count": 9,
   "id": "59dada02-008e-408d-94e0-9ad4fb31e008",
   "metadata": {},
   "outputs": [
    {
     "name": "stdout",
     "output_type": "stream",
     "text": [
      "loss: 15.043\r"
     ]
    },
    {
     "ename": "KeyboardInterrupt",
     "evalue": "",
     "output_type": "error",
     "traceback": [
      "\u001b[0;31m---------------------------------------------------------------------------\u001b[0m",
      "\u001b[0;31mKeyboardInterrupt\u001b[0m                         Traceback (most recent call last)",
      "Cell \u001b[0;32mIn[9], line 8\u001b[0m\n\u001b[1;32m      6\u001b[0m output \u001b[38;5;241m=\u001b[39m net(inputs)\n\u001b[1;32m      7\u001b[0m loss_ \u001b[38;5;241m=\u001b[39m yololoss(output, T)\n\u001b[0;32m----> 8\u001b[0m \u001b[43mloss_\u001b[49m\u001b[38;5;241;43m.\u001b[39;49m\u001b[43mbackward\u001b[49m\u001b[43m(\u001b[49m\u001b[43m)\u001b[49m\n\u001b[1;32m      9\u001b[0m loss \u001b[38;5;241m=\u001b[39m loss_\u001b[38;5;241m.\u001b[39mitem()\n\u001b[1;32m     10\u001b[0m optmizer\u001b[38;5;241m.\u001b[39mstep()\n",
      "File \u001b[0;32m/aios/lib/python3.9/site-packages/torch/_tensor.py:487\u001b[0m, in \u001b[0;36mTensor.backward\u001b[0;34m(self, gradient, retain_graph, create_graph, inputs)\u001b[0m\n\u001b[1;32m    477\u001b[0m \u001b[38;5;28;01mif\u001b[39;00m has_torch_function_unary(\u001b[38;5;28mself\u001b[39m):\n\u001b[1;32m    478\u001b[0m     \u001b[38;5;28;01mreturn\u001b[39;00m handle_torch_function(\n\u001b[1;32m    479\u001b[0m         Tensor\u001b[38;5;241m.\u001b[39mbackward,\n\u001b[1;32m    480\u001b[0m         (\u001b[38;5;28mself\u001b[39m,),\n\u001b[0;32m   (...)\u001b[0m\n\u001b[1;32m    485\u001b[0m         inputs\u001b[38;5;241m=\u001b[39minputs,\n\u001b[1;32m    486\u001b[0m     )\n\u001b[0;32m--> 487\u001b[0m \u001b[43mtorch\u001b[49m\u001b[38;5;241;43m.\u001b[39;49m\u001b[43mautograd\u001b[49m\u001b[38;5;241;43m.\u001b[39;49m\u001b[43mbackward\u001b[49m\u001b[43m(\u001b[49m\n\u001b[1;32m    488\u001b[0m \u001b[43m    \u001b[49m\u001b[38;5;28;43mself\u001b[39;49m\u001b[43m,\u001b[49m\u001b[43m \u001b[49m\u001b[43mgradient\u001b[49m\u001b[43m,\u001b[49m\u001b[43m \u001b[49m\u001b[43mretain_graph\u001b[49m\u001b[43m,\u001b[49m\u001b[43m \u001b[49m\u001b[43mcreate_graph\u001b[49m\u001b[43m,\u001b[49m\u001b[43m \u001b[49m\u001b[43minputs\u001b[49m\u001b[38;5;241;43m=\u001b[39;49m\u001b[43minputs\u001b[49m\n\u001b[1;32m    489\u001b[0m \u001b[43m\u001b[49m\u001b[43m)\u001b[49m\n",
      "File \u001b[0;32m/aios/lib/python3.9/site-packages/torch/autograd/__init__.py:200\u001b[0m, in \u001b[0;36mbackward\u001b[0;34m(tensors, grad_tensors, retain_graph, create_graph, grad_variables, inputs)\u001b[0m\n\u001b[1;32m    195\u001b[0m     retain_graph \u001b[38;5;241m=\u001b[39m create_graph\n\u001b[1;32m    197\u001b[0m \u001b[38;5;66;03m# The reason we repeat same the comment below is that\u001b[39;00m\n\u001b[1;32m    198\u001b[0m \u001b[38;5;66;03m# some Python versions print out the first line of a multi-line function\u001b[39;00m\n\u001b[1;32m    199\u001b[0m \u001b[38;5;66;03m# calls in the traceback and some print out the last line\u001b[39;00m\n\u001b[0;32m--> 200\u001b[0m \u001b[43mVariable\u001b[49m\u001b[38;5;241;43m.\u001b[39;49m\u001b[43m_execution_engine\u001b[49m\u001b[38;5;241;43m.\u001b[39;49m\u001b[43mrun_backward\u001b[49m\u001b[43m(\u001b[49m\u001b[43m  \u001b[49m\u001b[38;5;66;43;03m# Calls into the C++ engine to run the backward pass\u001b[39;49;00m\n\u001b[1;32m    201\u001b[0m \u001b[43m    \u001b[49m\u001b[43mtensors\u001b[49m\u001b[43m,\u001b[49m\u001b[43m \u001b[49m\u001b[43mgrad_tensors_\u001b[49m\u001b[43m,\u001b[49m\u001b[43m \u001b[49m\u001b[43mretain_graph\u001b[49m\u001b[43m,\u001b[49m\u001b[43m \u001b[49m\u001b[43mcreate_graph\u001b[49m\u001b[43m,\u001b[49m\u001b[43m \u001b[49m\u001b[43minputs\u001b[49m\u001b[43m,\u001b[49m\n\u001b[1;32m    202\u001b[0m \u001b[43m    \u001b[49m\u001b[43mallow_unreachable\u001b[49m\u001b[38;5;241;43m=\u001b[39;49m\u001b[38;5;28;43;01mTrue\u001b[39;49;00m\u001b[43m,\u001b[49m\u001b[43m \u001b[49m\u001b[43maccumulate_grad\u001b[49m\u001b[38;5;241;43m=\u001b[39;49m\u001b[38;5;28;43;01mTrue\u001b[39;49;00m\u001b[43m)\u001b[49m\n",
      "\u001b[0;31mKeyboardInterrupt\u001b[0m: "
     ]
    }
   ],
   "source": [
    "loss = 1.0\n",
    "while loss > 0.01:\n",
    "    optmizer.zero_grad()\n",
    "    inputs = torch.FloatTensor(Input)\n",
    "    T = torch.FloatTensor(Target)\n",
    "    output = net(inputs)\n",
    "    loss_ = yololoss(output, T)\n",
    "    loss_.backward()\n",
    "    loss = loss_.item()\n",
    "    optmizer.step()\n",
    "    print(f\"loss: {loss:.3f}\", end=\"\\r\")"
   ]
  },
  {
   "cell_type": "code",
   "execution_count": 11,
   "id": "1a502269-147f-4be7-af3a-7f6b5989b32c",
   "metadata": {},
   "outputs": [],
   "source": [
    "with torch.no_grad():\n",
    "    outout = net(Input)"
   ]
  }
 ],
 "metadata": {
  "kernelspec": {
   "display_name": "Python 3 (ipykernel)",
   "language": "python",
   "name": "python3"
  },
  "language_info": {
   "codemirror_mode": {
    "name": "ipython",
    "version": 3
   },
   "file_extension": ".py",
   "mimetype": "text/x-python",
   "name": "python",
   "nbconvert_exporter": "python",
   "pygments_lexer": "ipython3",
   "version": "3.9.18"
  }
 },
 "nbformat": 4,
 "nbformat_minor": 5
}
