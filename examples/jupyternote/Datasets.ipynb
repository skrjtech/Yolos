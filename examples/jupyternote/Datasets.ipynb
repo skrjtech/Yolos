{
 "cells": [
  {
   "cell_type": "code",
   "execution_count": 1,
   "id": "e13467c3-3567-48de-b166-e2af015a90df",
   "metadata": {},
   "outputs": [],
   "source": [
    "import os\n",
    "import glob\n",
    "import torch\n",
    "import torchvision\n",
    "from PIL import Image\n",
    "import xml.etree.ElementTree as ET"
   ]
  },
  {
   "cell_type": "code",
   "execution_count": null,
   "id": "74eab54d-97ea-423a-8934-58147e96f915",
   "metadata": {},
   "outputs": [],
   "source": []
  },
  {
   "cell_type": "code",
   "execution_count": null,
   "id": "f41de66e-e52d-45bb-8c34-4930e81317e2",
   "metadata": {},
   "outputs": [],
   "source": [
    "class FruitsImageDataset(YoloDataset):\n",
    "    def __init__(self, path: str, transform: torchvision.transforms.Compose, test: bool=False, *args, **kwargs):\n",
    "        super(FruitsImageDataset, self).__init__(*args, **kwargs)\n",
    "        self.ClassName = {\n",
    "            \"apple\": 0,\n",
    "            \"banana\": 1,\n",
    "            \"orange\": 2\n",
    "        }\n",
    "        self.test = test\n",
    "        self.images = sorted(glob(os.path.join(path, \"*.jpg\")))\n",
    "        self.xmlano = sorted(glob(os.path.join(path, \"*.xml\")))\n",
    "        self.num = len(self.images)\n",
    "        self.transform = transform\n",
    "\n",
    "    def __len__(self):\n",
    "        return self.num\n",
    "\n",
    "    def __getitem__(self, index):\n",
    "        imagePath = self.images[index]\n",
    "        xmlanPath = self.xmlano[index]\n",
    "\n",
    "        image = Image.open(imagePath)\n",
    "        image = image.convert(\"RGB\")\n",
    "        width, height = image.size\n",
    "\n",
    "        BBoxes = []\n",
    "        TreeRoot = ET.parse(xmlanPath).getroot()\n",
    "        for obj in TreeRoot.findall(\"object\"):\n",
    "            BBoxes += [\n",
    "                [int(obj.find(\"bndbox\").find(\"xmin\").text),\n",
    "                 int(obj.find(\"bndbox\").find(\"ymin\").text),\n",
    "                 int(obj.find(\"bndbox\").find(\"xmax\").text),\n",
    "                 int(obj.find(\"bndbox\").find(\"ymax\").text),\n",
    "                 self.ClassName[obj.find(\"name\").text]]\n",
    "            ]\n",
    "\n",
    "        image, BBoxes = self.transform(image, BBoxes)\n",
    "        EncoderBox = EncoderBBox(BBoxes, width, height, S=self.S)\n",
    "        Target = MakeTargetBBox(EncoderBox, self.S, self.B, self.C)\n",
    "\n",
    "        return self._Output(BBoxes, image, Target, width, height)\n",
    "    \n",
    "    def _Output(self, BBoxes, images, Target, Width, Height):\n",
    "        if self.test:\n",
    "            return BBoxes, images, Target, (Width, Height)\n",
    "        \n",
    "        return images, Target\n",
    "\n",
    "class FruitsImageDatasetTest(FruitsImageDataset):\n",
    "    def __init__(self, path: str, transform: torchvision.transforms.Compose, *args, **kwargs):\n",
    "        super(FruitsImageDatasetTest, self).__init__(path, transform, test=True, *args, **kwargs)"
   ]
  }
 ],
 "metadata": {
  "kernelspec": {
   "display_name": "Python 3 (ipykernel)",
   "language": "python",
   "name": "python3"
  },
  "language_info": {
   "codemirror_mode": {
    "name": "ipython",
    "version": 3
   },
   "file_extension": ".py",
   "mimetype": "text/x-python",
   "name": "python",
   "nbconvert_exporter": "python",
   "pygments_lexer": "ipython3",
   "version": "3.9.18"
  }
 },
 "nbformat": 4,
 "nbformat_minor": 5
}
